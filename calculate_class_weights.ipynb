{
 "cells": [
  {
   "cell_type": "code",
   "execution_count": 2,
   "metadata": {},
   "outputs": [
    {
     "ename": "ValueError",
     "evalue": "math domain error",
     "output_type": "error",
     "traceback": [
      "\u001b[0;31m---------------------------------------------------------------------------\u001b[0m",
      "\u001b[0;31mValueError\u001b[0m                                Traceback (most recent call last)",
      "\u001b[0;32m<ipython-input-2-b34253638236>\u001b[0m in \u001b[0;36m<module>\u001b[0;34m\u001b[0m\n\u001b[1;32m      9\u001b[0m \u001b[0mweights\u001b[0m \u001b[0;34m=\u001b[0m \u001b[0;34m[\u001b[0m\u001b[0;34m]\u001b[0m\u001b[0;34m\u001b[0m\u001b[0;34m\u001b[0m\u001b[0m\n\u001b[1;32m     10\u001b[0m \u001b[0;32mfor\u001b[0m \u001b[0mkey\u001b[0m \u001b[0;32min\u001b[0m \u001b[0munique\u001b[0m\u001b[0;34m:\u001b[0m\u001b[0;34m\u001b[0m\u001b[0;34m\u001b[0m\u001b[0m\n\u001b[0;32m---> 11\u001b[0;31m     \u001b[0mscore\u001b[0m \u001b[0;34m=\u001b[0m \u001b[0mmath\u001b[0m\u001b[0;34m.\u001b[0m\u001b[0mlog\u001b[0m\u001b[0;34m(\u001b[0m\u001b[0mmu\u001b[0m\u001b[0;34m*\u001b[0m\u001b[0mtotal\u001b[0m\u001b[0;34m/\u001b[0m\u001b[0mlabels_dict\u001b[0m\u001b[0;34m[\u001b[0m\u001b[0mkey\u001b[0m\u001b[0;34m]\u001b[0m\u001b[0;34m)\u001b[0m\u001b[0;34m\u001b[0m\u001b[0;34m\u001b[0m\u001b[0m\n\u001b[0m\u001b[1;32m     12\u001b[0m     \u001b[0mweights\u001b[0m\u001b[0;34m.\u001b[0m\u001b[0mappend\u001b[0m\u001b[0;34m(\u001b[0m\u001b[0mscore\u001b[0m\u001b[0;34m)\u001b[0m\u001b[0;34m\u001b[0m\u001b[0;34m\u001b[0m\u001b[0m\n\u001b[1;32m     13\u001b[0m \u001b[0mprint\u001b[0m\u001b[0;34m(\u001b[0m\u001b[0mweights\u001b[0m\u001b[0;34m)\u001b[0m\u001b[0;34m\u001b[0m\u001b[0;34m\u001b[0m\u001b[0m\n",
      "\u001b[0;31mValueError\u001b[0m: math domain error"
     ]
    }
   ],
   "source": [
    "import numpy as np, math\n",
    "\n",
    "mu = 1\n",
    "\n",
    "unique = [0, 1, 2, 3, 4, 5, 6]\n",
    "labels_dict = {0: 12885, 1: 85572, 2: 1022, 3: 1150, 4: 174, 5: 1823, 6: 353}\n",
    "# 0 happy, 1 neutral, 2 anger, 3 sad, 4 fear, 5 surprise, 6 disgust \n",
    "total = np.sum(list(labels_dict.values()))\n",
    "weights = []\n",
    "for key in unique:\n",
    "    score = math.log(mu*total/labels_dict[key])\n",
    "    weights.append(score)\n",
    "print(weights)\n",
    "# [2, 0.3, 4, 4, 8, 4, 8]"
   ]
  },
  {
   "cell_type": "code",
   "execution_count": null,
   "metadata": {},
   "outputs": [],
   "source": [
    "import numpy as np\n",
    "\n",
    "# counts {0: 1022, 1: 85572, 2: 353, 3: 174, 4: 12885, 5: 1150, 6: 1823}\n",
    "y = [0]*1022 + [1]*85572 + [2]*353 + [3]*174 + [4]*12885 + [5]*1150 + [6]*1823\n",
    "# y = [0,0,0,0,0,0,0,0,1,1,1,1,1,1,2,2]  #标签值，一共16个样本\n",
    "\n",
    "a = np.bincount(y)  # array([8, 6, 2], dtype=int64) 计算每个类别的样本数量\n",
    "aa = 1/a  #倒数 array([0.125     , 0.16666667, 0.5       ])\n",
    "print(aa)\n",
    "\n",
    "from sklearn.utils.class_weight import compute_class_weight \n",
    "class_weight = 'balanced'\n",
    "classes = np.array([0, 1, 2, 3, 4, 5, 6])  #标签类别\n",
    "weight = compute_class_weight(class_weight, classes, y)\n",
    "print(weight) # [0.66666667 0.88888889 2.66666667]\n",
    "\n",
    "print(weight[0]*1022)  \n",
    "print(weight[1]*85572)\n",
    "print(weight[2]*353)\n",
    "print(weight[3]*174) \n",
    "print(weight[4]*12885) \n",
    "print(weight[5]*1150) \n",
    "print(weight[6]*1823) \n",
    "# 这三个值非常接近\n",
    "# 'balanced'计算出来的结果很均衡，使得惩罚项和样本量对应"
   ]
  },
  {
   "cell_type": "code",
   "execution_count": 7,
   "metadata": {},
   "outputs": [
    {
     "name": "stdout",
     "output_type": "stream",
     "text": [
      "tensor([ 1.1417,  0.1719, 14.3946, 12.7924, 84.5476,  8.0698, 41.6750])\n"
     ]
    }
   ],
   "source": [
    "import torch\n",
    "loss_weights = torch.FloatTensor([1.14173735,0.17191705,14.39460442,12.79242236,84.54761905,8.06982211,41.67503035])\n",
    "print(loss_weights)"
   ]
  },
  {
   "cell_type": "code",
   "execution_count": null,
   "metadata": {},
   "outputs": [],
   "source": []
  }
 ],
 "metadata": {
  "kernelspec": {
   "display_name": "Python 3",
   "language": "python",
   "name": "python3"
  },
  "language_info": {
   "codemirror_mode": {
    "name": "ipython",
    "version": 3
   },
   "file_extension": ".py",
   "mimetype": "text/x-python",
   "name": "python",
   "nbconvert_exporter": "python",
   "pygments_lexer": "ipython3",
   "version": "3.8.3"
  }
 },
 "nbformat": 4,
 "nbformat_minor": 4
}
