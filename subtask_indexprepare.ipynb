{
 "cells": [
  {
   "cell_type": "code",
   "execution_count": 4,
   "metadata": {},
   "outputs": [],
   "source": [
    "import numpy as np\n",
    "import csv\n",
    "import os\n",
    "\n",
    "if __name__ == '__main__':\n",
    "    utterances, speakers = [], []\n",
    "    dataset = 'dailydialog'\n",
    "    data = 'train'\n",
    "    file_base = '/nfs/users/gutianyun/EmoBias-ERC/model/datasets/dialogue_level_minibatch/' + dataset + '/' + dataset + '_' + data + '_'\n",
    "    file_utterances = file_base + 'utterances.tsv'\n",
    "    file_speakers = file_base + 'speakers.tsv'\n",
    "    file_subtask = file_base + 'subtask01_index.tsv'\n",
    "    \n",
    "    with open(file_utterances) as f:\n",
    "        for line in f:\n",
    "            content = line.strip().split('\\t')[1:]\n",
    "            utterances.append(content)\n",
    "        \n",
    "    with open(file_speakers) as f:\n",
    "        for line in f:\n",
    "            content = line.strip().split('\\t')[1:]\n",
    "            speakers.append(content)\n",
    "            \n",
    "    if os.path.exists(file_subtask):\n",
    "        os.remove(file_subtask)\n",
    "            \n",
    "    for j, conv in enumerate(speakers):\n",
    "        unique_speakers = np.unique(conv)\n",
    "        speaker_memo = {} # dict\n",
    "        for unique_speaker in unique_speakers:\n",
    "            speaker_memo[unique_speaker] = conv.index(unique_speaker)\n",
    "        \n",
    "        res = []\n",
    "        res.append('te_'+str(j))\n",
    "        for i, curr_speaker in enumerate(conv):\n",
    "            last_index = speaker_memo[curr_speaker]\n",
    "            speaker_memo[curr_speaker] = i\n",
    "            \n",
    "            if i == last_index:\n",
    "                res.append(-1)\n",
    "            else:\n",
    "                res.append(last_index)\n",
    "                \n",
    "        # print('res:', res)\n",
    "        \n",
    "        with open(file_subtask, 'a', newline='') as f_output:\n",
    "            tsv_output = csv.writer(f_output, delimiter = '\\t')\n",
    "            tsv_output.writerow(res)\n",
    "        \n",
    "        "
   ]
  },
  {
   "cell_type": "code",
   "execution_count": null,
   "metadata": {},
   "outputs": [],
   "source": []
  }
 ],
 "metadata": {
  "kernelspec": {
   "display_name": "base",
   "language": "python",
   "name": "base"
  },
  "language_info": {
   "codemirror_mode": {
    "name": "ipython",
    "version": 3
   },
   "file_extension": ".py",
   "mimetype": "text/x-python",
   "name": "python",
   "nbconvert_exporter": "python",
   "pygments_lexer": "ipython3",
   "version": "3.8.3"
  }
 },
 "nbformat": 4,
 "nbformat_minor": 4
}
